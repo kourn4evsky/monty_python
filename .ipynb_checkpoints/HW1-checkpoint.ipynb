{
 "cells": [
  {
   "cell_type": "code",
   "execution_count": 1,
   "metadata": {},
   "outputs": [
    {
     "name": "stdout",
     "output_type": "stream",
     "text": [
      "Сколько вам пингвинов?\n",
      "8\n",
      "   _~_       _~_       _~_       _~_       _~_       _~_       _~_       _~_    \n",
      "  (o o)     (o o)     (o o)     (o o)     (o o)     (o o)     (o o)     (o o)   \n",
      " /  V  \\   /  V  \\   /  V  \\   /  V  \\   /  V  \\   /  V  \\   /  V  \\   /  V  \\  \n",
      "/(  _  )\\ /(  _  )\\ /(  _  )\\ /(  _  )\\ /(  _  )\\ /(  _  )\\ /(  _  )\\ /(  _  )\\ \n",
      "  ^^ ^^     ^^ ^^     ^^ ^^     ^^ ^^     ^^ ^^     ^^ ^^     ^^ ^^     ^^ ^^   \n"
     ]
    }
   ],
   "source": [
    "penguin1 = \"   _~_    \"\n",
    "penguin2 = \"  (o o)   \"\n",
    "penguin3 = \" /  V  \\  \"\n",
    "penguin4 = \"/(  _  )\\ \"\n",
    "penguin5 = \"  ^^ ^^   \"\n",
    "penguin = (penguin1, penguin2, penguin3, penguin4, penguin5)\n",
    "number = input(\"Сколько вам пингвинов?\\n\")\n",
    "number = int(number)\n",
    "if number <= 0:\n",
    "    print (\"Ну и пожалуйста!\")\n",
    "elif number > 9:\n",
    "    print(\"Имейте совесть!\")\n",
    "else:\n",
    "    picture1 = penguin1 * number\n",
    "    picture2 = penguin2 * number\n",
    "    picture3 = penguin3 * number\n",
    "    picture4 = penguin4 * number\n",
    "    picture5 = penguin5 * number\n",
    "    print (picture1)\n",
    "    print (picture2)\n",
    "    print (picture3)\n",
    "    print (picture4)\n",
    "    print (picture5)"
   ]
  },
  {
   "cell_type": "code",
   "execution_count": 2,
   "metadata": {},
   "outputs": [
    {
     "name": "stdout",
     "output_type": "stream",
     "text": [
      "Скажи что-нибудь\n",
      "спать хочу\n",
      "Количество слов: 2\n",
      "Количество символов: 10\n"
     ]
    }
   ],
   "source": [
    "word = input(\"Скажи что-нибудь\\n\")\n",
    "number = word.split()\n",
    "words = len(number)\n",
    "symbols = len(word)\n",
    "print(\"Количество слов:\", words)\n",
    "print(\"Количество символов:\", symbols)"
   ]
  },
  {
   "cell_type": "code",
   "execution_count": 3,
   "metadata": {},
   "outputs": [
    {
     "name": "stdout",
     "output_type": "stream",
     "text": [
      "p\n",
      "p\n",
      "kappa\n",
      "kappakappakappakap\n",
      "kpaapkpaap\n",
      "apkpaapkpa\n",
      "appakappakappakappak\n",
      "apkpaapkpa\n",
      "20\n"
     ]
    }
   ],
   "source": [
    "phrase = \"kappakappakappakappa\"\n",
    "print(phrase[2])\n",
    "print(phrase[-2])\n",
    "print(phrase[0:5])\n",
    "print(phrase[:-2])\n",
    "print(phrase[::2])\n",
    "print(phrase[1::2])\n",
    "print(phrase[::-1])\n",
    "print(phrase[::-2])\n",
    "print(len(phrase))"
   ]
  },
  {
   "cell_type": "code",
   "execution_count": 5,
   "metadata": {},
   "outputs": [
    {
     "name": "stdout",
     "output_type": "stream",
     "text": [
      "have sum plndrmz?\n",
      "abba\n",
      "{'abba'}\n",
      "YES\n"
     ]
    }
   ],
   "source": [
    "word = input(\"have sum plndrmz?\\n\")\n",
    "drow = word[::-1]\n",
    "wordz = set(word.split())\n",
    "wordz.add(drow)\n",
    "print(wordz)\n",
    "if len(wordz) > 1:\n",
    "    print (\"NO\")\n",
    "elif len(wordz) < 1:\n",
    "    print (\"HOW\")\n",
    "else:\n",
    "    print(\"YES\")"
   ]
  },
  {
   "cell_type": "code",
   "execution_count": 8,
   "metadata": {},
   "outputs": [
    {
     "name": "stdout",
     "output_type": "stream",
     "text": [
      "Говори, не стесняйся!\n",
      "дыра\n",
      "Слово дыра встречается в тексте 3 раз(а)\n"
     ]
    }
   ],
   "source": [
    "text = \"законы физики рядом с черной дырой уже не работают в том представлении в котором мы привыкли \\nпространство время искривляется и все события протекают уже совсем по другому \\nсловно пылесос черная дыра поглощает все что находится около нее планеты астероиды свет и прочее \\nранее считалось что черная дыра ничего не излучает но как доказал стивен хокинг черная дыра излучает антивещество \\nто есть поедает вещество и выделяет антивещество \\nранее думали что если кинуть в черную дыру человека то ему труба порвет на субатомы \\nно как оказалось по некоторым уравнениям есть определенные траектории путешествия сквозь черную дыру чтоб чувствовать себя нормально \\nправда не ясно что будет за ней другой мир или ничего \\nобласть вокруг черной дыры которая интересна называется горизонтом событий \\nесли туда полететь не зная волшебное уравнение то будет конечно не очень \\nнаблюдатель будет видеть как космический корабль влетает в горизонт событий и крайне медленно потом отдаляется пока не застынет в центрe \\nу самого же космонавта дела будут идти совсем по другому \\nискривленное пространство будет лепить из него как из пластилина различные формы пока наконец не разорвет все на субатомы \\nно для внешнего наблюдателя космонавт навсегда останется улыбающимся и махающим в иллюминатор застывшим изображением\"\n",
    "massive = list(text.split())\n",
    "word = input(\"Говори, не стесняйся!\\n\")\n",
    "number = massive.count(word)\n",
    "if number > 0:\n",
    "    print(\"Слово {} встречается в тексте {} раз(а)\".format(word, number))\n",
    "else:\n",
    "    massive.append(word)\n",
    "    print(\"Слово {} добавлено\".format(word))"
   ]
  },
  {
   "cell_type": "code",
   "execution_count": null,
   "metadata": {},
   "outputs": [],
   "source": []
  }
 ],
 "metadata": {
  "kernelspec": {
   "display_name": "Python 3",
   "language": "python",
   "name": "python3"
  },
  "language_info": {
   "codemirror_mode": {
    "name": "ipython",
    "version": 3
   },
   "file_extension": ".py",
   "mimetype": "text/x-python",
   "name": "python",
   "nbconvert_exporter": "python",
   "pygments_lexer": "ipython3",
   "version": "3.6.5"
  }
 },
 "nbformat": 4,
 "nbformat_minor": 2
}
