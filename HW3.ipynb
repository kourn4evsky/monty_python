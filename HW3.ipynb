{
 "cells": [
  {
   "cell_type": "markdown",
   "metadata": {},
   "source": [
    "#Задание №1#\n",
    "\n",
    "Скачайте текст *\"Литературных анекдотов\"*. Напишите функцию, которая будет читать файл, лемматизировать текст с помощью pymystem3 и записывать результат в новый файл. У функции должно бы два аргумента: путь к исходному файлу и путь к файлу с лемматизированным текстом. Вызов функции тоже должен быть прописан в решении.\n"
   ]
  },
  {
   "cell_type": "code",
   "execution_count": 5,
   "metadata": {},
   "outputs": [],
   "source": [
    "import os\n",
    "import json\n",
    "from pymystem3 import Mystem #сразу же добавляем все необходимые библиотеки"
   ]
  },
  {
   "cell_type": "code",
   "execution_count": 6,
   "metadata": {},
   "outputs": [],
   "source": [
    "def lemmachine(text, lext): #создание функции с двумя аргументами\n",
    "    with open(text, 'r', encoding='utf-8') as f: #открытие и чтение исходного файла\n",
    "        jokes = f.read()\n",
    "        f.closed\n",
    "    m = Mystem(mystem_bin=\"C:/Users/Леня/Desktop/python/mystem\") #без пути под 32'й семеркой последняя версия Mystem не работает\n",
    "    lemmas = m.lemmatize(jokes) #лемматизация текста\n",
    "    line = ''.join(lemmas)\n",
    "    with open(lext, 'w', encoding='utf-8') as f: #создание файла для записи\n",
    "        f.write(line)\n",
    "lemmachine ('literary_anecdotes.txt', 'lemmaz.txt')"
   ]
  },
  {
   "cell_type": "markdown",
   "metadata": {},
   "source": [
    "#Задание №2#\n",
    "\n",
    "Очистите лемматизированный текст от стоп-слов и посчитайте ipm для оставшихся. Выведите 20 самых частотных по этому параметру слов."
   ]
  },
  {
   "cell_type": "code",
   "execution_count": null,
   "metadata": {},
   "outputs": [],
   "source": []
  }
 ],
 "metadata": {
  "kernelspec": {
   "display_name": "Python 3",
   "language": "python",
   "name": "python3"
  },
  "language_info": {
   "codemirror_mode": {
    "name": "ipython",
    "version": 3
   },
   "file_extension": ".py",
   "mimetype": "text/x-python",
   "name": "python",
   "nbconvert_exporter": "python",
   "pygments_lexer": "ipython3",
   "version": "3.6.5"
  }
 },
 "nbformat": 4,
 "nbformat_minor": 2
}
